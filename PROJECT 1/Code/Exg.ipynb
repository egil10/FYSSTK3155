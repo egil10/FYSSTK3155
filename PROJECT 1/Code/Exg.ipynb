{
 "cells": [
  {
   "cell_type": "code",
   "execution_count": null,
   "id": "2d203f59",
   "metadata": {},
   "outputs": [],
   "source": [
    "import numpy as np\n",
    "import matplotlib.pyplot as plt\n",
    "from sklearn.preprocessing import StandardScaler\n",
    "from sklearn.metrics import mean_squared_error\n",
    "\n",
    "from prepare_data import prepare_data\n",
    "from polynomial_features import polynomial_features\n",
    "from OLS import OLS_parameters\n",
    "\n",
    "x, y, x_train, x_test, y_train, y_test, y_noisy = prepare_data()\n",
    "\n",
    "X_train = polynomial_features(x_train,3,False)\n",
    "X_test = polynomial_features(x_test,3,False)\n",
    "\n",
    "scaler = StandardScaler()\n",
    "X_train_s = scaler.fit_transform(X_train)\n",
    "X_test_s = scaler.transform(X_test)"
   ]
  },
  {
   "cell_type": "markdown",
   "id": "c716217c",
   "metadata": {},
   "source": [
    "### Basic OLS test"
   ]
  },
  {
   "cell_type": "code",
   "execution_count": 6,
   "id": "8d1b18a6",
   "metadata": {},
   "outputs": [
    {
     "name": "stdout",
     "output_type": "stream",
     "text": [
      "[ 0.09514307  0.14751574 -0.12500478]\n"
     ]
    }
   ],
   "source": [
    "x, y, x_train, x_test, y_train, y_test, y_noisy = prepare_data()\n",
    "\n",
    "X_train = polynomial_features(x_train,3,False)\n",
    "X_test = polynomial_features(x_test,3,False)\n",
    "\n",
    "scaler = StandardScaler()\n",
    "X_train_s = scaler.fit_transform(X_train)\n",
    "X_test_s = scaler.transform(X_test)\n",
    "\n",
    "beta_OLS = OLS_parameters(X_train,y_train)\n",
    "print(beta_OLS)"
   ]
  },
  {
   "cell_type": "markdown",
   "id": "7121de63",
   "metadata": {},
   "source": [
    "### Code from week 38"
   ]
  },
  {
   "cell_type": "code",
   "execution_count": null,
   "id": "3fdf7a96",
   "metadata": {},
   "outputs": [],
   "source": []
  }
 ],
 "metadata": {
  "kernelspec": {
   "display_name": "FYS-STK3155",
   "language": "python",
   "name": "python3"
  },
  "language_info": {
   "codemirror_mode": {
    "name": "ipython",
    "version": 3
   },
   "file_extension": ".py",
   "mimetype": "text/x-python",
   "name": "python",
   "nbconvert_exporter": "python",
   "pygments_lexer": "ipython3",
   "version": "3.13.5"
  }
 },
 "nbformat": 4,
 "nbformat_minor": 5
}

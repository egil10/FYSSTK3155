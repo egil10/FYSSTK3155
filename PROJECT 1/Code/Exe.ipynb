{
 "cells": [
  {
   "cell_type": "markdown",
   "id": "d20fff0b",
   "metadata": {},
   "source": [
    "## Imports"
   ]
  },
  {
   "cell_type": "code",
   "execution_count": 81,
   "id": "b158adfc",
   "metadata": {},
   "outputs": [],
   "source": [
    "# Import libraries and functions:\n",
    "import numpy as np\n",
    "import matplotlib.pyplot as plt\n",
    "from sklearn.preprocessing import StandardScaler\n",
    "from sklearn.metrics import mean_squared_error, r2_score\n",
    "from sklearn.linear_model import Lasso\n",
    "\n",
    "# Import our own implementations\n",
    "import importlib, gradient_descent, prepare_data, polynomial_features\n",
    "importlib.reload(gradient_descent)\n",
    "importlib.reload(prepare_data)\n",
    "importlib.reload(polynomial_features)\n",
    "\n",
    "\n",
    "from prepare_data import prepare_data\n",
    "from polynomial_features import polynomial_features\n",
    "from gradient_descent import gradient_descent_LASSO, momentum_gradient_descent_LASSO, \\\n",
    "    ADAGrad_gradient_descent_LASSO, RMSProp_gradient_descent_LASSO, ADAM_gradient_descent_LASSO\n"
   ]
  },
  {
   "cell_type": "markdown",
   "id": "99d5ae9e",
   "metadata": {},
   "source": [
    "## Testing Functions"
   ]
  },
  {
   "cell_type": "markdown",
   "id": "2641785c",
   "metadata": {},
   "source": [
    "### Standard gradient descent function, LASSO "
   ]
  },
  {
   "cell_type": "code",
   "execution_count": 82,
   "id": "b8bba388",
   "metadata": {},
   "outputs": [
    {
     "name": "stdout",
     "output_type": "stream",
     "text": [
      "GD parameters:  [-0.         -0.98189229  0.00632461  1.05052906  0.         -0.\n",
      "  0.         -0.10283976 -0.         -0.21693817 -0.         -0.\n",
      " -0.          0.         -0.00734072  0.02453983]\n",
      "Number of iterations: 100000\n",
      "LASSO coefficients, Scikit learn:  [-0.         -1.06054438  0.00427094  1.26740651  0.         -0.\n",
      " -0.         -0.47057126 -0.         -0.         -0.         -0.\n",
      " -0.          0.         -0.00455391  0.03739309]\n",
      "GD parameters equal to parameters from sklearn: [ True False False False  True  True  True False  True False  True  True\n",
      "  True  True False False].\n",
      "Tolerance = 0.001\n"
     ]
    }
   ],
   "source": [
    "# Prepare data\n",
    "x, y, x_train, x_test, y_train, y_test, y_noisy = prepare_data(n=100)\n",
    "\n",
    "# Polynomial degree\n",
    "p = 16\n",
    "lam = 0.001\n",
    "eta = 1e-2\n",
    "num_iters = 100000\n",
    "\n",
    "# make feature matrices, scale data\n",
    "X_plot = polynomial_features(x, p, intercept=False)\n",
    "X_train = polynomial_features(x_train, p, intercept=False)\n",
    "X_test  = polynomial_features(x_test, p, intercept=False)\n",
    "scaler = StandardScaler()\n",
    "scaler.fit(X_train)\n",
    "X_train_s = scaler.transform(X_train)\n",
    "X_test_s  = scaler.transform(X_test)\n",
    "X_plot_s  = scaler.transform(X_plot)\n",
    "\n",
    "\n",
    "\n",
    "beta, t = gradient_descent_LASSO(X_train_s, y_train, lam = lam, eta=eta, num_iters=num_iters)\n",
    "print(\"GD parameters: \", beta)\n",
    "print(f\"Number of iterations: {t}\")\n",
    "# Lasso parameters from ScikitLearn\n",
    "lasso = Lasso(alpha=lam, fit_intercept=False, max_iter=num_iters)\n",
    "lasso.fit(X_train_s, y_train)\n",
    "beta_sklearn = lasso.coef_\n",
    "print(\"LASSO coefficients, Scikit learn: \", beta_sklearn)\n",
    "tol=1e-3\n",
    "is_close = np.isclose(beta, beta_sklearn, rtol=tol, atol=tol)\n",
    "print(f\"GD parameters equal to parameters from sklearn: {is_close}.\")\n",
    "print(f\"Tolerance = {tol}\")\n"
   ]
  },
  {
   "cell_type": "markdown",
   "id": "3bfb1989",
   "metadata": {},
   "source": [
    "### Gradient descent with momentum, LASSO"
   ]
  },
  {
   "cell_type": "code",
   "execution_count": 83,
   "id": "cc760330",
   "metadata": {},
   "outputs": [
    {
     "name": "stdout",
     "output_type": "stream",
     "text": [
      "GD parameters:  [-0.02760925 -0.64512713  0.02952902  0.450475  ]\n",
      "Number of iterations: 55472\n",
      "LASSO coefficients, Scikit learn:  [-0.02142985 -0.69949953  0.02566578  0.50494923]\n",
      "GD parameters equal to parameters from sklearn: [ True False  True False].\n",
      "Tolerance = 0.01\n"
     ]
    }
   ],
   "source": [
    "# Prepare data\n",
    "x, y, x_train, x_test, y_train, y_test, y_noisy = prepare_data(n=100)\n",
    "\n",
    "# Polynomial degree\n",
    "p = 4\n",
    "lam = 0.0001\n",
    "eta = 1e-3\n",
    "num_iters = 100000\n",
    "mom = 0.1\n",
    "\n",
    "# make feature matrices, scale data\n",
    "X_plot = polynomial_features(x, p, intercept=False)\n",
    "X_train = polynomial_features(x_train, p, intercept=False)\n",
    "X_test  = polynomial_features(x_test, p, intercept=False)\n",
    "scaler = StandardScaler()\n",
    "scaler.fit(X_train)\n",
    "X_train_s = scaler.transform(X_train)\n",
    "X_test_s  = scaler.transform(X_test)\n",
    "X_plot_s  = scaler.transform(X_plot)\n",
    "\n",
    "\n",
    "\n",
    "beta, t = momentum_gradient_descent_LASSO(X_train_s, y_train, lam = lam, eta=eta, momentum=mom, num_iters=num_iters)\n",
    "print(\"GD parameters: \", beta)\n",
    "print(f\"Number of iterations: {t}\")\n",
    "# Lasso parameters from ScikitLearn\n",
    "lasso = Lasso(alpha=lam, fit_intercept=False, max_iter=num_iters)\n",
    "lasso.fit(X_train_s, y_train)\n",
    "beta_sklearn = lasso.coef_\n",
    "print(\"LASSO coefficients, Scikit learn: \", beta_sklearn)\n",
    "tol=1e-2\n",
    "is_close = np.isclose(beta, beta_sklearn, rtol=tol, atol=tol)\n",
    "print(f\"GD parameters equal to parameters from sklearn: {is_close}.\")\n",
    "print(f\"Tolerance = {tol}\")"
   ]
  },
  {
   "cell_type": "markdown",
   "id": "5cca7b22",
   "metadata": {},
   "source": [
    "### Gradient descent with ADAGrad, LASSO"
   ]
  },
  {
   "cell_type": "code",
   "execution_count": 84,
   "id": "f50a9b39",
   "metadata": {},
   "outputs": [
    {
     "name": "stdout",
     "output_type": "stream",
     "text": [
      "GD parameters:  [-0.         -1.03160022  0.00660484  1.18531463  0.         -0.\n",
      " -0.         -0.3815634  -0.00679305 -0.        ]\n",
      "Number of iterations: 17109\n",
      "LASSO coefficients, Scikit learn:  [-0.         -1.03027552  0.00653717  1.18298956  0.         -0.\n",
      " -0.         -0.3804637  -0.00671807 -0.        ]\n",
      "GD parameters equal to parameters from sklearn: [ True  True  True  True  True  True  True  True  True  True].\n",
      "Tolerance = 0.01\n"
     ]
    }
   ],
   "source": [
    "# Prepare data\n",
    "x, y, x_train, x_test, y_train, y_test, y_noisy = prepare_data(n=100)\n",
    "\n",
    "# Polynomial degree\n",
    "p = 10\n",
    "lam = 0.001\n",
    "eta = 1e-1\n",
    "num_iters = 100000\n",
    "\n",
    "# make feature matrices, scale data\n",
    "X_plot = polynomial_features(x, p, intercept=False)\n",
    "X_train = polynomial_features(x_train, p, intercept=False)\n",
    "X_test  = polynomial_features(x_test, p, intercept=False)\n",
    "scaler = StandardScaler()\n",
    "scaler.fit(X_train)\n",
    "X_train_s = scaler.transform(X_train)\n",
    "X_test_s  = scaler.transform(X_test)\n",
    "X_plot_s  = scaler.transform(X_plot)\n",
    "\n",
    "\n",
    "\n",
    "beta, t = ADAGrad_gradient_descent_LASSO(X_train_s, y_train, lam = lam, eta=eta, num_iters=num_iters)\n",
    "print(\"GD parameters: \", beta)\n",
    "print(f\"Number of iterations: {t}\")\n",
    "# Lasso parameters from ScikitLearn\n",
    "lasso = Lasso(alpha=lam, fit_intercept=False, max_iter=num_iters)\n",
    "lasso.fit(X_train_s, y_train)\n",
    "beta_sklearn = lasso.coef_\n",
    "print(\"LASSO coefficients, Scikit learn: \", beta_sklearn)\n",
    "tol=1e-2\n",
    "is_close = np.isclose(beta, beta_sklearn, rtol=tol, atol=tol)\n",
    "print(f\"GD parameters equal to parameters from sklearn: {is_close}.\")\n",
    "print(f\"Tolerance = {tol}\")"
   ]
  },
  {
   "cell_type": "markdown",
   "id": "f81641a7",
   "metadata": {},
   "source": [
    "### Gradient descent with RMSProp, LASSO"
   ]
  },
  {
   "cell_type": "code",
   "execution_count": 85,
   "id": "febd611d",
   "metadata": {},
   "outputs": [
    {
     "name": "stdout",
     "output_type": "stream",
     "text": [
      "GD parameters:  [-0.02672266 -2.09401031  0.17867277  5.81977076 -0.33512042 -6.56941488\n",
      "  0.18842858  2.61217172]\n",
      "Number of iterations: 100000\n",
      "LASSO coefficients, Scikit learn:  [-0.02614834 -2.13960258  0.17734494  6.03823973 -0.34226685 -6.89443157\n",
      "  0.19468921  2.7667896 ]\n",
      "GD parameters equal to parameters from sklearn: [ True False  True False  True False  True False].\n",
      "Tolerance = 0.01\n"
     ]
    }
   ],
   "source": [
    "# Prepare data\n",
    "x, y, x_train, x_test, y_train, y_test, y_noisy = prepare_data(n=100)\n",
    "\n",
    "# Polynomial degree\n",
    "p = 8\n",
    "lam = 0.00001\n",
    "eta = 1e-3\n",
    "num_iters = 100000\n",
    "\n",
    "# make feature matrices, scale data\n",
    "X_plot = polynomial_features(x, p, intercept=False)\n",
    "X_train = polynomial_features(x_train, p, intercept=False)\n",
    "X_test  = polynomial_features(x_test, p, intercept=False)\n",
    "scaler = StandardScaler()\n",
    "scaler.fit(X_train)\n",
    "X_train_s = scaler.transform(X_train)\n",
    "X_test_s  = scaler.transform(X_test)\n",
    "X_plot_s  = scaler.transform(X_plot)\n",
    "\n",
    "\n",
    "\n",
    "beta, t = RMSProp_gradient_descent_LASSO(X_train_s, y_train, lam = lam, eta=eta, num_iters=num_iters)\n",
    "print(\"GD parameters: \", beta)\n",
    "print(f\"Number of iterations: {t}\")\n",
    "# Lasso parameters from ScikitLearn\n",
    "lasso = Lasso(alpha=lam, fit_intercept=False, max_iter=num_iters)\n",
    "lasso.fit(X_train_s, y_train)\n",
    "beta_sklearn = lasso.coef_\n",
    "print(\"LASSO coefficients, Scikit learn: \", beta_sklearn)\n",
    "tol=1e-2\n",
    "is_close = np.isclose(beta, beta_sklearn, rtol=tol, atol=tol)\n",
    "print(f\"GD parameters equal to parameters from sklearn: {is_close}.\")\n",
    "print(f\"Tolerance = {tol}\")"
   ]
  },
  {
   "cell_type": "markdown",
   "id": "2e308977",
   "metadata": {},
   "source": [
    "### Gradient descent with ADAM, LASSO"
   ]
  },
  {
   "cell_type": "code",
   "execution_count": 89,
   "id": "01207949",
   "metadata": {},
   "outputs": [
    {
     "name": "stdout",
     "output_type": "stream",
     "text": [
      "GD parameters:  [-3.88327325e-03 -1.88094913e+00  1.96135567e-02  4.62968185e+00\n",
      " -0.00000000e+00 -4.02064133e+00 -3.82951538e-02  0.00000000e+00\n",
      " -0.00000000e+00  1.20724523e+00  0.00000000e+00  0.00000000e+00\n",
      "  2.55731983e-02 -1.65194526e-01]\n",
      "Number of iterations: 82160\n",
      "LASSO coefficients, Scikit learn:  [-4.29621301e-03 -1.87307641e+00  2.11345894e-02  4.58605956e+00\n",
      " -0.00000000e+00 -3.95409863e+00 -4.06052861e-02  0.00000000e+00\n",
      " -0.00000000e+00  1.15700245e+00  0.00000000e+00  0.00000000e+00\n",
      "  2.69088221e-02 -1.45530841e-01]\n",
      "GD parameters equal to parameters from sklearn: [ True  True  True  True  True False  True  True  True False  True  True\n",
      "  True False].\n",
      "Tolerance = 0.01\n"
     ]
    }
   ],
   "source": [
    "# Prepare data\n",
    "x, y, x_train, x_test, y_train, y_test, y_noisy = prepare_data(n=100)\n",
    "\n",
    "# Polynomial degree\n",
    "p = 14\n",
    "lam = 0.0001\n",
    "eta = 1e-2\n",
    "num_iters = 100000\n",
    "\n",
    "# make feature matrices, scale data\n",
    "X_plot = polynomial_features(x, p, intercept=False)\n",
    "X_train = polynomial_features(x_train, p, intercept=False)\n",
    "X_test  = polynomial_features(x_test, p, intercept=False)\n",
    "scaler = StandardScaler()\n",
    "scaler.fit(X_train)\n",
    "X_train_s = scaler.transform(X_train)\n",
    "X_test_s  = scaler.transform(X_test)\n",
    "X_plot_s  = scaler.transform(X_plot)\n",
    "\n",
    "\n",
    "\n",
    "beta, t = ADAM_gradient_descent_LASSO(X_train_s, y_train, lam = lam, eta=eta, num_iters=num_iters)\n",
    "print(\"GD parameters: \", beta)\n",
    "print(f\"Number of iterations: {t}\")\n",
    "# Lasso parameters from ScikitLearn\n",
    "lasso = Lasso(alpha=lam, fit_intercept=False, max_iter=num_iters)\n",
    "lasso.fit(X_train_s, y_train)\n",
    "beta_sklearn = lasso.coef_\n",
    "print(\"LASSO coefficients, Scikit learn: \", beta_sklearn)\n",
    "tol=1e-2\n",
    "is_close = np.isclose(beta, beta_sklearn, rtol=tol, atol=tol)\n",
    "print(f\"GD parameters equal to parameters from sklearn: {is_close}.\")\n",
    "print(f\"Tolerance = {tol}\")"
   ]
  },
  {
   "cell_type": "markdown",
   "id": "ed39fdcf",
   "metadata": {},
   "source": []
  }
 ],
 "metadata": {
  "kernelspec": {
   "display_name": "base",
   "language": "python",
   "name": "python3"
  },
  "language_info": {
   "codemirror_mode": {
    "name": "ipython",
    "version": 3
   },
   "file_extension": ".py",
   "mimetype": "text/x-python",
   "name": "python",
   "nbconvert_exporter": "python",
   "pygments_lexer": "ipython3",
   "version": "3.11.5"
  }
 },
 "nbformat": 4,
 "nbformat_minor": 5
}

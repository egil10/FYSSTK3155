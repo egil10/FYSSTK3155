{
 "cells": [
  {
   "cell_type": "markdown",
   "id": "52159238",
   "metadata": {},
   "source": [
    "## Part h: Cross-validation and resampling techniques"
   ]
  },
  {
   "cell_type": "code",
   "execution_count": 29,
   "id": "63daae6f",
   "metadata": {},
   "outputs": [],
   "source": [
    "# Import libraies and functions:\n",
    "import numpy as np\n",
    "import matplotlib.pyplot as plt\n",
    "from sklearn.preprocessing import StandardScaler\n",
    "from sklearn.metrics import mean_squared_error\n",
    "from sklearn.model_selection import train_test_split\n",
    "\n",
    "# import our own implementations\n",
    "import importlib, OLS, prepare_data, polynomial_features,K_fold\n",
    "importlib.reload(OLS)\n",
    "importlib.reload(prepare_data)\n",
    "importlib.reload(polynomial_features)\n",
    "\n",
    "from prepare_data import prepare_data\n",
    "from polynomial_features import polynomial_features\n",
    "from OLS import OLS_parameters\n",
    "from K_fold import k_fold_split\n",
    "from sklearn.model_selection import KFold\n",
    "\n",
    "# Styling function\n",
    "from Set_latex_params import set_mpl_latex_style\n",
    "#set_mpl_latex_style()"
   ]
  },
  {
   "cell_type": "code",
   "execution_count": 5,
   "id": "3af64b79",
   "metadata": {},
   "outputs": [],
   "source": [
    "#Prepare data\n",
    "x, y, _, _, _, _, y_noisy = prepare_data(n=100)\n"
   ]
  },
  {
   "cell_type": "code",
   "execution_count": 27,
   "id": "bde38353",
   "metadata": {},
   "outputs": [
    {
     "name": "stdout",
     "output_type": "stream",
     "text": [
      "Mean across folds 0.10698697393022787\n"
     ]
    }
   ],
   "source": [
    "deg = 5\n",
    "\n",
    "folds = k_fold_split(x, y, k=5, shuffle=True, random_state=6114)\n",
    "mses = []\n",
    "\n",
    "for i, (train_idx, test_idx) in enumerate(folds):\n",
    "    x_train_f = x[train_idx]\n",
    "    x_test_f = x[test_idx]\n",
    "\n",
    "    y_train_f = y[train_idx]\n",
    "    y_test_f = y[test_idx]\n",
    "\n",
    "    y_offset = y_test_f.mean()\n",
    "\n",
    "    X_train_f = polynomial_features(x_train_f,deg,intercept=False)\n",
    "    X_test_f = polynomial_features(x_test_f,deg,intercept=False)\n",
    "\n",
    "    ols_betas = OLS_parameters(X_train_f,y_train_f)\n",
    "    pred_y_f = np.dot(X_test_f,ols_betas)+y_offset\n",
    "    mse_f = mean_squared_error(pred_y_f, y_test_f)\n",
    "\n",
    "    mses.append(mse_f)\n",
    "\n",
    "print(f\"Mean across folds {np.mean(mses)}\")\n"
   ]
  },
  {
   "cell_type": "markdown",
   "id": "bef3d3b3",
   "metadata": {},
   "source": [
    "### Sanity check with imported library\n",
    "Since there is a randomness to what elements are put in train and test sets, we cannot expect the results to be the same. But we can expect them to interact similarly"
   ]
  },
  {
   "cell_type": "code",
   "execution_count": null,
   "id": "2c2e955f",
   "metadata": {},
   "outputs": [],
   "source": [
    "deg = 5\n",
    "\n",
    "folds = KFold(n_splits=5, shuffle=True, random_state=42)\n",
    "\n",
    "for fold, (train_index, val_index) in enumerate(kf.split(X)):\n",
    "\n"
   ]
  }
 ],
 "metadata": {
  "kernelspec": {
   "display_name": "FYS-STK3155",
   "language": "python",
   "name": "python3"
  },
  "language_info": {
   "codemirror_mode": {
    "name": "ipython",
    "version": 3
   },
   "file_extension": ".py",
   "mimetype": "text/x-python",
   "name": "python",
   "nbconvert_exporter": "python",
   "pygments_lexer": "ipython3",
   "version": "3.13.5"
  }
 },
 "nbformat": 4,
 "nbformat_minor": 5
}

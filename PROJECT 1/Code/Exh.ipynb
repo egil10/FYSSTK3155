{
 "cells": [
  {
   "cell_type": "markdown",
   "id": "52159238",
   "metadata": {},
   "source": [
    "## Part h: Cross-validation and resampling techniques"
   ]
  },
  {
   "cell_type": "code",
   "execution_count": 1,
   "id": "63daae6f",
   "metadata": {},
   "outputs": [],
   "source": [
    "# Import libraies and functions:\n",
    "import numpy as np\n",
    "import matplotlib.pyplot as plt\n",
    "from sklearn.preprocessing import StandardScaler\n",
    "from sklearn.metrics import mean_squared_error\n",
    "from sklearn.model_selection import train_test_split\n",
    "\n",
    "# import our own implementations\n",
    "import importlib, OLS, prepare_data, polynomial_features,K_fold\n",
    "importlib.reload(OLS)\n",
    "importlib.reload(prepare_data)\n",
    "importlib.reload(polynomial_features)\n",
    "\n",
    "from prepare_data import prepare_data\n",
    "from polynomial_features import polynomial_features\n",
    "from OLS import OLS_parameters\n",
    "from Ridge import Ridge_parameters\n",
    "from K_fold import k_fold_split\n",
    "from sklearn.model_selection import KFold\n",
    "from sklearn.linear_model import Lasso\n",
    "\n",
    "# Styling function\n",
    "from Set_latex_params import set_mpl_latex_style\n",
    "#set_mpl_latex_style()"
   ]
  },
  {
   "cell_type": "code",
   "execution_count": 2,
   "id": "3af64b79",
   "metadata": {},
   "outputs": [],
   "source": [
    "#Prepare data\n",
    "x, y, _, _, _, _, y_noisy = prepare_data(n=100)\n"
   ]
  },
  {
   "cell_type": "code",
   "execution_count": 3,
   "id": "bde38353",
   "metadata": {},
   "outputs": [
    {
     "name": "stdout",
     "output_type": "stream",
     "text": [
      "Mean across folds 11.549058220651961\n"
     ]
    }
   ],
   "source": [
    "deg = 5\n",
    "\n",
    "rs = 6114\n",
    "\n",
    "folds = k_fold_split(x, y, k=5, shuffle=False, random_state=rs)\n",
    "mses = []\n",
    "\n",
    "for i, (train_idx, test_idx) in enumerate(folds):\n",
    "    x_train_f = x[train_idx]\n",
    "    x_test_f = x[test_idx]\n",
    "\n",
    "    y_train_f = y[train_idx]\n",
    "    y_test_f = y[test_idx]\n",
    "\n",
    "    y_offset = y_train_f.mean()\n",
    "\n",
    "    X_train_f = polynomial_features(x_train_f,deg,intercept=False)\n",
    "    X_test_f = polynomial_features(x_test_f,deg,intercept=False)\n",
    "\n",
    "    ols_betas = OLS_parameters(X_train_f,y_train_f)\n",
    "    pred_y_f = np.dot(X_test_f,ols_betas)+y_offset\n",
    "    mse_f = mean_squared_error(pred_y_f, y_test_f)\n",
    "\n",
    "    mses.append(mse_f)\n",
    "\n",
    "print(f\"Mean across folds {np.mean(mses)}\")\n"
   ]
  },
  {
   "cell_type": "markdown",
   "id": "bef3d3b3",
   "metadata": {},
   "source": [
    "### Sanity check with imported library\n",
    "Since there is a randomness to what elements are put in train and test sets, we cannot expect the results to be the same. But we can expect them to interact similarly"
   ]
  },
  {
   "cell_type": "code",
   "execution_count": 4,
   "id": "2c2e955f",
   "metadata": {},
   "outputs": [
    {
     "name": "stdout",
     "output_type": "stream",
     "text": [
      "Mean across folds 11.549058220651961\n"
     ]
    }
   ],
   "source": [
    "deg = 5\n",
    "\n",
    "folds = KFold(n_splits=5, shuffle=False)\n",
    "mses = []\n",
    "\n",
    "for fold, (train_idx, test_idx) in enumerate(folds.split(x)):\n",
    "    x_train_f = x[train_idx]\n",
    "    x_test_f = x[test_idx]\n",
    "\n",
    "    y_train_f = y[train_idx]\n",
    "    y_test_f = y[test_idx]\n",
    "\n",
    "    y_offset = y_train_f.mean()\n",
    "\n",
    "    X_train_f = polynomial_features(x_train_f,deg,intercept=False)\n",
    "    X_test_f = polynomial_features(x_test_f,deg,intercept=False)\n",
    "\n",
    "    ols_betas = OLS_parameters(X_train_f,y_train_f)\n",
    "    pred_y_f = np.dot(X_test_f,ols_betas)+y_offset\n",
    "    mse_f = mean_squared_error(pred_y_f, y_test_f)\n",
    "\n",
    "    mses.append(mse_f)\n",
    "\n",
    "print(f\"Mean across folds {np.mean(mses)}\")\n",
    "\n",
    "\n"
   ]
  },
  {
   "cell_type": "markdown",
   "id": "9a4ba1b7",
   "metadata": {},
   "source": [
    "Here we didnt use shuffle and tried on both the imported and selfmade K fold cross validation. We got the MSE which means our algorithm works as intended"
   ]
  },
  {
   "cell_type": "code",
   "execution_count": null,
   "id": "7ad9b6aa",
   "metadata": {},
   "outputs": [
    {
     "name": "stdout",
     "output_type": "stream",
     "text": [
      "1\n"
     ]
    },
    {
     "ename": "NameError",
     "evalue": "name 'k_fold_split' is not defined",
     "output_type": "error",
     "traceback": [
      "\u001b[31m---------------------------------------------------------------------------\u001b[39m",
      "\u001b[31mNameError\u001b[39m                                 Traceback (most recent call last)",
      "\u001b[36mCell\u001b[39m\u001b[36m \u001b[39m\u001b[32mIn[1]\u001b[39m\u001b[32m, line 14\u001b[39m\n\u001b[32m     11\u001b[39m \u001b[38;5;28;01mfor\u001b[39;00m deg \u001b[38;5;129;01min\u001b[39;00m \u001b[38;5;28mrange\u001b[39m(\u001b[32m1\u001b[39m,max_degrees):\n\u001b[32m     12\u001b[39m     \u001b[38;5;28mprint\u001b[39m(deg)\n\u001b[32m---> \u001b[39m\u001b[32m14\u001b[39m     folds = \u001b[43mk_fold_split\u001b[49m(x, y, k=\u001b[32m2\u001b[39m, shuffle=\u001b[38;5;28;01mFalse\u001b[39;00m, random_state=rs)\n\u001b[32m     15\u001b[39m     mses_OLS = []\n\u001b[32m     16\u001b[39m     mses_Ridge = []\n",
      "\u001b[31mNameError\u001b[39m: name 'k_fold_split' is not defined"
     ]
    },
    {
     "name": "stdout",
     "output_type": "stream",
     "text": [
      "1\n",
      "0\n",
      "1\n"
     ]
    },
    {
     "ename": "KeyboardInterrupt",
     "evalue": "",
     "output_type": "error",
     "traceback": [
      "\u001b[31m---------------------------------------------------------------------------\u001b[39m",
      "\u001b[31mKeyboardInterrupt\u001b[39m                         Traceback (most recent call last)",
      "\u001b[36mCell\u001b[39m\u001b[36m \u001b[39m\u001b[32mIn[5]\u001b[39m\u001b[32m, line 60\u001b[39m\n\u001b[32m     58\u001b[39m mse_plot_OLS.append(np.mean(mses_OLS))\n\u001b[32m     59\u001b[39m mse_plot_Ridge.append(np.mean(mses_Ridge))\n\u001b[32m---> \u001b[39m\u001b[32m60\u001b[39m mses_Lasso.append(\u001b[43mnp\u001b[49m\u001b[43m.\u001b[49m\u001b[43mmean\u001b[49m\u001b[43m(\u001b[49m\u001b[43mmses_Lasso\u001b[49m\u001b[43m)\u001b[49m)\n",
      "\u001b[36mFile \u001b[39m\u001b[32m~/mambaforge/envs/FYS-STK3155/lib/python3.13/site-packages/numpy/_core/fromnumeric.py:3860\u001b[39m, in \u001b[36mmean\u001b[39m\u001b[34m(a, axis, dtype, out, keepdims, where)\u001b[39m\n\u001b[32m   3857\u001b[39m     \u001b[38;5;28;01melse\u001b[39;00m:\n\u001b[32m   3858\u001b[39m         \u001b[38;5;28;01mreturn\u001b[39;00m mean(axis=axis, dtype=dtype, out=out, **kwargs)\n\u001b[32m-> \u001b[39m\u001b[32m3860\u001b[39m \u001b[38;5;28;01mreturn\u001b[39;00m \u001b[43m_methods\u001b[49m\u001b[43m.\u001b[49m\u001b[43m_mean\u001b[49m\u001b[43m(\u001b[49m\u001b[43ma\u001b[49m\u001b[43m,\u001b[49m\u001b[43m \u001b[49m\u001b[43maxis\u001b[49m\u001b[43m=\u001b[49m\u001b[43maxis\u001b[49m\u001b[43m,\u001b[49m\u001b[43m \u001b[49m\u001b[43mdtype\u001b[49m\u001b[43m=\u001b[49m\u001b[43mdtype\u001b[49m\u001b[43m,\u001b[49m\n\u001b[32m   3861\u001b[39m \u001b[43m                      \u001b[49m\u001b[43mout\u001b[49m\u001b[43m=\u001b[49m\u001b[43mout\u001b[49m\u001b[43m,\u001b[49m\u001b[43m \u001b[49m\u001b[43m*\u001b[49m\u001b[43m*\u001b[49m\u001b[43mkwargs\u001b[49m\u001b[43m)\u001b[49m\n",
      "\u001b[36mFile \u001b[39m\u001b[32m~/mambaforge/envs/FYS-STK3155/lib/python3.13/site-packages/numpy/_core/_methods.py:118\u001b[39m, in \u001b[36m_mean\u001b[39m\u001b[34m(a, axis, dtype, out, keepdims, where)\u001b[39m\n\u001b[32m    117\u001b[39m \u001b[38;5;28;01mdef\u001b[39;00m\u001b[38;5;250m \u001b[39m\u001b[34m_mean\u001b[39m(a, axis=\u001b[38;5;28;01mNone\u001b[39;00m, dtype=\u001b[38;5;28;01mNone\u001b[39;00m, out=\u001b[38;5;28;01mNone\u001b[39;00m, keepdims=\u001b[38;5;28;01mFalse\u001b[39;00m, *, where=\u001b[38;5;28;01mTrue\u001b[39;00m):\n\u001b[32m--> \u001b[39m\u001b[32m118\u001b[39m     arr = \u001b[43masanyarray\u001b[49m\u001b[43m(\u001b[49m\u001b[43ma\u001b[49m\u001b[43m)\u001b[49m\n\u001b[32m    120\u001b[39m     is_float16_result = \u001b[38;5;28;01mFalse\u001b[39;00m\n\u001b[32m    122\u001b[39m     rcount = _count_reduce_items(arr, axis, keepdims=keepdims, where=where)\n",
      "\u001b[31mKeyboardInterrupt\u001b[39m: "
     ]
    }
   ],
   "source": [
    "max_degrees = 15\n",
    "\n",
    "\n",
    "alpha_lasso  = 1e-1\n",
    "alpha_ridge = 1e-3\n",
    "\n",
    "mse_plot_OLS = []\n",
    "mse_plot_Ridge = []\n",
    "mse_plot_Lasso = []\n",
    "\n",
    "for deg in range(1,max_degrees):\n",
    "    print(deg)\n",
    "\n",
    "    folds = k_fold_split(x, y, k=2, shuffle=False, random_state=rs)\n",
    "    mses_OLS = []\n",
    "    mses_Ridge = []\n",
    "    mses_Lasso = []\n",
    "\n",
    "    for i, (train_idx, test_idx) in enumerate(folds):\n",
    "        print(i)\n",
    "        x_train_f = x[train_idx]\n",
    "        x_test_f = x[test_idx]\n",
    "\n",
    "        y_train_f = y[train_idx]\n",
    "        y_test_f = y[test_idx]\n",
    "\n",
    "        y_offset = y_train_f.mean()\n",
    "\n",
    "        X_train_f = polynomial_features(x_train_f,deg,intercept=False)\n",
    "        X_test_f = polynomial_features(x_test_f,deg,intercept=False)\n",
    "\n",
    "        # Scale \n",
    "        scaler = StandardScaler()\n",
    "        X_train_fs = scaler.fit_transform(X_train_f)\n",
    "        X_test_fs = scaler.transform(X_test_f)\n",
    "\n",
    "\n",
    "        # OlS\n",
    "        ols_betas = OLS_parameters(X_train_fs,y_train_f)\n",
    "        pred_y_f_ols = np.dot(X_test_fs,ols_betas)+y_offset\n",
    "        mse_f_ols = mean_squared_error(pred_y_f_ols, y_test_f) \n",
    "        \n",
    "        #Ridge\n",
    "        ridge_betas = Ridge_parameters(X_train_fs,y_train_f)\n",
    "        pred_y_f_ridge = np.dot(X_test_fs,ols_betas)+y_offset\n",
    "        mse_f_ridge = mean_squared_error(pred_y_f_ridge, y_test_f)\n",
    "        \n",
    "        #Lasso\n",
    "        lasso = Lasso(alpha=alpha_lasso, fit_intercept=False, max_iter=10000, random_state=rs)\n",
    "        lasso.fit(X_train_fs, y_train_f)\n",
    "        pred_y_f_lasso = lasso.predict(X_test_fs)\n",
    "        mse_f_lasso = mean_squared_error(pred_y_f_lasso, y_test_f)\n",
    "\n",
    "        mses_Ridge.append(mse_f_ridge)\n",
    "        mses_OLS.append(mse_f_ols)\n",
    "        mses_Lasso.append(mses_Lasso)\n",
    "    \n",
    "    mse_plot_OLS.append(np.mean(mses_OLS))\n",
    "    mse_plot_Ridge.append(np.mean(mses_Ridge))\n",
    "    mses_Lasso.append(np.mean(mses_Lasso))\n",
    "\n"
   ]
  },
  {
   "cell_type": "code",
   "execution_count": null,
   "id": "f0942b21",
   "metadata": {},
   "outputs": [],
   "source": []
  }
 ],
 "metadata": {
  "kernelspec": {
   "display_name": "FYS-STK3155",
   "language": "python",
   "name": "python3"
  },
  "language_info": {
   "codemirror_mode": {
    "name": "ipython",
    "version": 3
   },
   "file_extension": ".py",
   "mimetype": "text/x-python",
   "name": "python",
   "nbconvert_exporter": "python",
   "pygments_lexer": "ipython3",
   "version": "3.13.5"
  }
 },
 "nbformat": 4,
 "nbformat_minor": 5
}

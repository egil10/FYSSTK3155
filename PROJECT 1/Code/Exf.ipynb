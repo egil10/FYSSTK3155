{
 "cells": [
  {
   "cell_type": "markdown",
   "id": "966de4c7",
   "metadata": {},
   "source": [
    "## Part f:"
   ]
  }
 ],
 "metadata": {
  "language_info": {
   "name": "python"
  }
 },
 "nbformat": 4,
 "nbformat_minor": 5
}

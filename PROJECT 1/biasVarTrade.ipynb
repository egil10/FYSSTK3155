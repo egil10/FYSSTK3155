{
 "cells": [
  {
   "cell_type": "markdown",
   "id": "1da77599",
   "metadata": {},
   "source": [
    "# Exercises week 38\n",
    "\n",
    "## September 15-19\n",
    "\n",
    "## Resampling and the Bias-Variance Trade-off\n"
   ]
  },
  {
   "cell_type": "markdown",
   "id": "e9f27b0e",
   "metadata": {},
   "source": [
    "### Learning goals\n",
    "\n",
    "After completing these exercises, you will know how to\n",
    "\n",
    "- Derive expectation and variances values related to linear regression\n",
    "- Compute expectation and variances values related to linear regression\n",
    "- Compute and evaluate the trade-off between bias and variance of a model\n",
    "\n",
    "### Deliverables\n",
    "\n",
    "Complete the following exercises while working in a jupyter notebook. Then, in canvas, include\n",
    "\n",
    "- The jupyter notebook with the exercises completed\n",
    "- An exported PDF of the notebook (https://code.visualstudio.com/docs/datascience/jupyter-notebooks#_export-your-jupyter-notebook)\n"
   ]
  },
  {
   "cell_type": "markdown",
   "id": "984af8e3",
   "metadata": {},
   "source": [
    "## Use the books!\n",
    "\n",
    "This week deals with various mean values and variances in linear regression methods (here it may be useful to look up chapter 3, equation (3.8) of [Trevor Hastie, Robert Tibshirani, Jerome H. Friedman, The Elements of Statistical Learning, Springer](https://www.springer.com/gp/book/9780387848570)).\n",
    "\n",
    "For more discussions on Ridge regression and calculation of expectation values, [Wessel van Wieringen's](https://arxiv.org/abs/1509.09169) article is highly recommended.\n",
    "\n",
    "The exercises this week are also a part of project 1 and can be reused in the theory part of the project.\n",
    "\n",
    "### Definitions\n",
    "\n",
    "We assume that there exists a continuous function $f(\\boldsymbol{x})$ and a normal distributed error $\\boldsymbol{\\varepsilon}\\sim N(0, \\sigma^2)$ which describes our data\n"
   ]
  },
  {
   "cell_type": "markdown",
   "id": "c16f7d0e",
   "metadata": {},
   "source": [
    "$$\n",
    "\\boldsymbol{y} = f(\\boldsymbol{x})+\\boldsymbol{\\varepsilon}\n",
    "$$\n"
   ]
  },
  {
   "cell_type": "markdown",
   "id": "9fcf981a",
   "metadata": {
    "vscode": {
     "languageId": "plaintext"
    }
   },
   "source": [
    "We further assume that this continous function can be modeled with a linear model $\\mathbf{\\tilde{y}}$ of some features $\\mathbf{X}$.\n"
   ]
  },
  {
   "cell_type": "markdown",
   "id": "d4189366",
   "metadata": {},
   "source": [
    "$$\n",
    "\\boldsymbol{y} = \\boldsymbol{\\tilde{y}} + \\boldsymbol{\\varepsilon} = \\boldsymbol{X}\\boldsymbol{\\beta} +\\boldsymbol{\\varepsilon}\n",
    "$$\n"
   ]
  },
  {
   "cell_type": "markdown",
   "id": "f4fca21b",
   "metadata": {},
   "source": [
    "We therefore get that our data $\\boldsymbol{y}$ has an expectation value $\\boldsymbol{X}\\boldsymbol{\\beta}$ and variance $\\sigma^2$, that is $\\boldsymbol{y}$ follows a normal distribution with mean value $\\boldsymbol{X}\\boldsymbol{\\beta}$ and variance $\\sigma^2$.\n"
   ]
  },
  {
   "cell_type": "markdown",
   "id": "5de0c7e6",
   "metadata": {},
   "source": [
    "## Exercise 1: Expectation values for ordinary least squares expressions\n"
   ]
  },
  {
   "cell_type": "markdown",
   "id": "d878c699",
   "metadata": {},
   "source": [
    "**a)** With the expressions for the optimal parameters $\\boldsymbol{\\hat{\\beta}_{OLS}}$ show that\n"
   ]
  },
  {
   "cell_type": "markdown",
   "id": "08b7007d",
   "metadata": {},
   "source": [
    "$$\n",
    "\\mathbb{E}(\\boldsymbol{\\hat{\\beta}_{OLS}}) = \\boldsymbol{\\beta}.\n",
    "$$\n"
   ]
  },
  {
   "cell_type": "markdown",
   "id": "347ded23",
   "metadata": {},
   "source": [
    "### Answer:"
   ]
  },
  {
   "cell_type": "markdown",
   "id": "78d886f6",
   "metadata": {},
   "source": [
    "$$\n",
    "\\hat\\beta_{OLS} = (X^TX)^{-1}X^Ty\n",
    "$$"
   ]
  },
  {
   "cell_type": "markdown",
   "id": "9c74cfbd",
   "metadata": {},
   "source": [
    "$$\n",
    "\\hat\\beta_{OLS} = (X^TX)^{-1}X^T(X\\beta+\\epsilon)\n",
    "$$"
   ]
  },
  {
   "cell_type": "markdown",
   "id": "d1c11530",
   "metadata": {},
   "source": [
    "$$\n",
    "\\hat\\beta_{OLS}={X^TX}^{-1}X^TX\\beta+{X^TX}^{-1}X^T\\epsilon\n",
    "$$"
   ]
  },
  {
   "cell_type": "markdown",
   "id": "89593ab7",
   "metadata": {},
   "source": [
    "We have that $(X^TX)^{-1}X^TX=I$ \n",
    "$$\n",
    "\\hat\\beta_{OLS}=I\\beta+(X^TX)^{-1}X^T\\epsilon\n",
    "$$"
   ]
  },
  {
   "cell_type": "markdown",
   "id": "afbfd2a8",
   "metadata": {},
   "source": [
    "$$\n",
    "\\mathbb{E}[\\hat\\beta_{OLS}] = \\mathbb{E}[\\beta]+\\mathbb{E}[(X^TX)^{-1}X^T\\epsilon]\n",
    "$$"
   ]
  },
  {
   "cell_type": "markdown",
   "id": "4be990e8",
   "metadata": {},
   "source": [
    "We have the assmumption that $(X^TX)^{-1}X^T$ and $\\epsilon$ are independant so we have that $\\mathbb{E}[(X^TX)^{-1}X^T\\epsilon]=\\mathbb{E}[(X^TX)^{-1}X^T]\\mathbb{E}[\\epsilon]$"
   ]
  },
  {
   "cell_type": "markdown",
   "id": "fc462550",
   "metadata": {},
   "source": [
    "$$\n",
    "\\mathbb{E}[\\hat\\beta_{OLS}] = \\mathbb{E}[\\beta]+\\mathbb{E}[(X^TX)^{-1}x^T]\\mathbb{E}[\\epsilon]\n",
    "$$"
   ]
  },
  {
   "cell_type": "markdown",
   "id": "1774e4f7",
   "metadata": {},
   "source": [
    "We have $\\epsilon \\sim N(0,\\sigma^2)$ so $\\mathbb{E}[\\epsilon] = 0$  "
   ]
  },
  {
   "cell_type": "markdown",
   "id": "0360813e",
   "metadata": {},
   "source": [
    "$$\n",
    "\\mathbb{E}[\\hat\\beta_{OLS}]=\\mathbb{E}[\\beta]\n",
    "$$"
   ]
  },
  {
   "cell_type": "markdown",
   "id": "aad6571f",
   "metadata": {},
   "source": [
    "$$\n",
    "\n",
    "$$"
   ]
  },
  {
   "cell_type": "markdown",
   "id": "46e93394",
   "metadata": {},
   "source": [
    "**b)** Show that the variance of $\\boldsymbol{\\hat{\\beta}_{OLS}}$ is\n"
   ]
  },
  {
   "cell_type": "markdown",
   "id": "be1b65be",
   "metadata": {},
   "source": [
    "$$\n",
    "\\mathbf{Var}(\\boldsymbol{\\hat{\\beta}_{OLS}}) = \\sigma^2 \\, (\\mathbf{X}^{T} \\mathbf{X})^{-1}.\n",
    "$$\n"
   ]
  },
  {
   "cell_type": "markdown",
   "id": "7f5ee739",
   "metadata": {},
   "source": [
    "### Answer:"
   ]
  },
  {
   "cell_type": "markdown",
   "id": "66986798",
   "metadata": {},
   "source": [
    "We start from the expression gotten in Exercise 1a."
   ]
  },
  {
   "cell_type": "markdown",
   "id": "5ca861dd",
   "metadata": {},
   "source": [
    "$$\n",
    "\\hat\\beta_{OLS}=\\beta+(X^TX)^{-1}X^T\\epsilon\n",
    "$$"
   ]
  },
  {
   "cell_type": "markdown",
   "id": "81a1b4a6",
   "metadata": {},
   "source": [
    "$$\n",
    "Var[\\hat\\beta_{OLS}] = Var[\\beta] + Var[(X^TX)^{-1}X^T\\epsilon]\n",
    "$$\n"
   ]
  },
  {
   "cell_type": "markdown",
   "id": "ca656d66",
   "metadata": {},
   "source": [
    "We have that $\\beta$ is a constant so $Var[\\beta] = 0$"
   ]
  },
  {
   "cell_type": "markdown",
   "id": "a34acd2b",
   "metadata": {},
   "source": [
    "$$\n",
    "Var[\\hat\\beta_{OLS}] = Var[(X^TX)^{-1}X^T\\epsilon]\n",
    "$$"
   ]
  },
  {
   "cell_type": "markdown",
   "id": "ed2bc40f",
   "metadata": {},
   "source": [
    "We have the formula $Var[A\\epsilon] = AVar[\\epsilon]A^T$, since $Var[\\epsilon]$ is a constant we also have that: "
   ]
  },
  {
   "cell_type": "markdown",
   "id": "a3fd23b1",
   "metadata": {},
   "source": [
    "$$\n",
    "Var[A\\epsilon]=AA^TVar(\\epsilon)\n",
    "$$"
   ]
  },
  {
   "cell_type": "markdown",
   "id": "e707537f",
   "metadata": {},
   "source": [
    "In this case $A=(X^TX)^{-1}X^T$, so $AA^T=(X^TX)^{-1}(X^TX)(X^TX)^{-1}={X^TX}^{-1}I$"
   ]
  },
  {
   "cell_type": "markdown",
   "id": "a5a01427",
   "metadata": {},
   "source": [
    "We then put it into the formula\n",
    "$$\n",
    "Var[A\\epsilon]=(X^TX)^{-1}Var[\\epsilon]\n",
    "$$"
   ]
  },
  {
   "cell_type": "markdown",
   "id": "7c9aa8f1",
   "metadata": {},
   "source": [
    "We have that $Var[\\epsilon]=\\sigma^2$ as $\\epsilon\\sim N(0,\\sigma^2)$"
   ]
  },
  {
   "cell_type": "markdown",
   "id": "b46faf8e",
   "metadata": {},
   "source": [
    "$$\n",
    "Var[\\hat\\beta_{OLS}]=(X^TX)^{-1}\\sigma^2\n",
    "$$"
   ]
  },
  {
   "cell_type": "markdown",
   "id": "d2143684",
   "metadata": {},
   "source": [
    "We can use the last expression when we define a [confidence interval](https://en.wikipedia.org/wiki/Confidence_interval) for the parameters $\\boldsymbol{\\hat{\\beta}_{OLS}}$.\n",
    "A given parameter ${\\boldsymbol{\\hat{\\beta}_{OLS}}}_j$ is given by the diagonal matrix element of the above matrix.\n"
   ]
  },
  {
   "cell_type": "markdown",
   "id": "f5c2dc22",
   "metadata": {},
   "source": [
    "## Exercise 2: Expectation values for Ridge regression\n"
   ]
  },
  {
   "cell_type": "markdown",
   "id": "3893e3e7",
   "metadata": {},
   "source": [
    "**a)** With the expressions for the optimal parameters $\\boldsymbol{\\hat{\\beta}_{Ridge}}$ show that\n"
   ]
  },
  {
   "cell_type": "markdown",
   "id": "79dc571f",
   "metadata": {},
   "source": [
    "$$\n",
    "\\mathbb{E} \\big[ \\hat{\\boldsymbol{\\beta}}^{\\mathrm{Ridge}} \\big]=(\\mathbf{X}^{T} \\mathbf{X} + \\lambda \\mathbf{I}_{pp})^{-1} (\\mathbf{X}^{\\top} \\mathbf{X})\\boldsymbol{\\beta}\n",
    "$$\n"
   ]
  },
  {
   "cell_type": "markdown",
   "id": "ffd618e4",
   "metadata": {},
   "source": [
    "### Answer:"
   ]
  },
  {
   "cell_type": "markdown",
   "id": "7189a1d4",
   "metadata": {},
   "source": [
    "We have from earlier weeks that $\\hat\\beta^{Ridge}=(X^TX+\\lambda I_{pp})^{-1}X^Ty$"
   ]
  },
  {
   "cell_type": "markdown",
   "id": "773c6e3a",
   "metadata": {},
   "source": [
    "$$\n",
    "\\hat\\beta^{Ridge} = (X^TX+\\lambda I_{pp})^{-1}X^T(X\\beta+\\epsilon)\n",
    "$$"
   ]
  },
  {
   "cell_type": "markdown",
   "id": "9434ff6e",
   "metadata": {},
   "source": [
    "$$\n",
    "\\hat\\beta^{Ridge}=(X^TX+\\lambda I_{pp})^{-1}X^TX\\beta+(X^TX+\\lambda I_{pp})^{-1}X^T\\epsilon\n",
    "$$"
   ]
  },
  {
   "cell_type": "markdown",
   "id": "f912e1f4",
   "metadata": {},
   "source": [
    "We now take the expectation of $\\mathbb{E}[\\hat\\beta^{Ridge}]$"
   ]
  },
  {
   "cell_type": "markdown",
   "id": "f7eda00a",
   "metadata": {},
   "source": [
    "$$\n",
    "\\mathbb{E}[\\hat\\beta^{Ridge}]=\\mathbb{E}[(X^TX+\\lambda I_{pp})^{-1}X^TX\\beta] + \\mathbb{E}[(X^TX+\\lambda I_{pp})^{-1}X^T\\epsilon]\n",
    "$$"
   ]
  },
  {
   "cell_type": "markdown",
   "id": "d22c0213",
   "metadata": {},
   "source": [
    "Here we use the same assumption as in exercise 1 that $\\mathbb{E}[(X^TX+\\lambda I_{pp})^{-1}X^T\\epsilon]= \\mathbb{E}[(X^TX+\\lambda I_{pp})^{-1}X^T]\\mathbb{E}[\\epsilon]$ As the prior only depends on the training data. And the noise is not dependant on prior.\n",
    "We then get."
   ]
  },
  {
   "cell_type": "markdown",
   "id": "c426143f",
   "metadata": {},
   "source": [
    "$$\n",
    "\\mathbb{E}[\\hat\\beta^{Ridge}]=\\mathbb{E}[(X^TX+\\lambda I_{pp})^{-1}X^TX\\beta]=(X^TX+\\lambda I_{pp})^{-1}(X^TX)\\beta\n",
    "$$"
   ]
  },
  {
   "cell_type": "markdown",
   "id": "028209a1",
   "metadata": {},
   "source": [
    "We see that $\\mathbb{E} \\big[ \\hat{\\boldsymbol{\\beta}}^{\\mathrm{Ridge}} \\big] \\not= \\mathbb{E} \\big[\\hat{\\boldsymbol{\\beta}}^{\\mathrm{OLS}}\\big ]$ for any $\\lambda > 0$.\n"
   ]
  },
  {
   "cell_type": "markdown",
   "id": "b4e721fc",
   "metadata": {},
   "source": [
    "**b)** Show that the variance is\n"
   ]
  },
  {
   "cell_type": "markdown",
   "id": "090eb1e1",
   "metadata": {},
   "source": [
    "$$\n",
    "\\mathbf{Var}[\\hat{\\boldsymbol{\\beta}}^{\\mathrm{Ridge}}]=\\sigma^2[  \\mathbf{X}^{T} \\mathbf{X} + \\lambda \\mathbf{I} ]^{-1}  \\mathbf{X}^{T}\\mathbf{X} \\{ [  \\mathbf{X}^{\\top} \\mathbf{X} + \\lambda \\mathbf{I} ]^{-1}\\}^{T}\n",
    "$$\n"
   ]
  },
  {
   "cell_type": "markdown",
   "id": "ddeccb88",
   "metadata": {},
   "source": [
    "### Answer:"
   ]
  },
  {
   "cell_type": "markdown",
   "id": "dc204ccd",
   "metadata": {},
   "source": [
    "We use our result from exercise 2b as a starting point:"
   ]
  },
  {
   "cell_type": "markdown",
   "id": "0740e204",
   "metadata": {},
   "source": [
    "$$\n",
    "\\hat\\beta^{Ridge}=(X^TX+\\lambda I_{pp})^{-1}X^TX\\beta+(X^TX+\\lambda I_{pp})^{-1}X^T\\epsilon\n",
    "$$"
   ]
  },
  {
   "cell_type": "markdown",
   "id": "eff1edb6",
   "metadata": {},
   "source": [
    "$$\n",
    "Var[\\hat\\beta^{Ridge}]= Var[(X^TX+\\lambda I_{pp})^{-1}X^TX\\beta] + Var[(X^TX+\\lambda I_pp)^{-1}X^T\\epsilon]\n",
    "$$"
   ]
  },
  {
   "cell_type": "markdown",
   "id": "730a886c",
   "metadata": {},
   "source": [
    "We can see that our entire first term is a constant and the variance of a constant is 0"
   ]
  },
  {
   "cell_type": "markdown",
   "id": "a24e8ee3",
   "metadata": {},
   "source": [
    "$$\n",
    "Var[\\hat\\beta^{Ridge}]=Var[(X^TX+\\lambda I_{pp})^{-1}X^T\\epsilon]\n",
    "$$"
   ]
  },
  {
   "cell_type": "markdown",
   "id": "9af57da1",
   "metadata": {},
   "source": [
    "We have the formula $Var[A\\epsilon] = AVar[\\epsilon]A^T$, since $Var[\\epsilon]$ is a constant we also have that: "
   ]
  },
  {
   "cell_type": "markdown",
   "id": "87ce3e9b",
   "metadata": {},
   "source": [
    "$$\n",
    "Var[A\\epsilon]=AA^TVar(\\epsilon)\n",
    "$$"
   ]
  },
  {
   "cell_type": "markdown",
   "id": "cae50e64",
   "metadata": {},
   "source": [
    "In this case $A=(X^TX+\\lambda I_{pp})^{-1}X^T$"
   ]
  },
  {
   "cell_type": "markdown",
   "id": "76a719c6",
   "metadata": {},
   "source": [
    "$$\n",
    "AA^T=(X^TX+\\lambda I_{pp})^{-1}X^TX\\{(X^TX+\\lambda I_{pp})^{-1}\\}^T\n",
    "$$"
   ]
  },
  {
   "cell_type": "markdown",
   "id": "e1cea720",
   "metadata": {},
   "source": [
    "We have that $Var[\\epsilon]=\\sigma^2$ as $\\epsilon\\sim N(0,\\sigma^2)$"
   ]
  },
  {
   "cell_type": "markdown",
   "id": "666f80f5",
   "metadata": {},
   "source": [
    "We put everything together:"
   ]
  },
  {
   "cell_type": "markdown",
   "id": "4ae3b885",
   "metadata": {},
   "source": [
    "$$\n",
    "Var[\\hat\\beta^{Ridge}] = \\sigma^2(X^TX+\\lambda I_{pp})^{-1}X^TX\\{(X^TX+\\lambda I_{pp})^{-1}\\}^T\n",
    "$$"
   ]
  },
  {
   "cell_type": "markdown",
   "id": "6b8e8697",
   "metadata": {},
   "source": [
    "We see that if the parameter $\\lambda$ goes to infinity then the variance of the Ridge parameters $\\boldsymbol{\\beta}$ goes to zero.\n"
   ]
  },
  {
   "cell_type": "markdown",
   "id": "74bc300b",
   "metadata": {},
   "source": [
    "## Exercise 3: Deriving the expression for the Bias-Variance Trade-off\n"
   ]
  },
  {
   "cell_type": "markdown",
   "id": "eeb86010",
   "metadata": {},
   "source": [
    "The aim of this exercise is to derive the equations for the bias-variance tradeoff to be used in project 1.\n",
    "\n",
    "The parameters $\\boldsymbol{\\hat{\\beta}_{OLS}}$ are found by optimizing the mean squared error via the so-called cost function\n"
   ]
  },
  {
   "cell_type": "markdown",
   "id": "522a0d1d",
   "metadata": {},
   "source": [
    "$$\n",
    "C(\\boldsymbol{X},\\boldsymbol{\\beta}) =\\frac{1}{n}\\sum_{i=0}^{n-1}(y_i-\\tilde{y}_i)^2=\\mathbb{E}\\left[(\\boldsymbol{y}-\\boldsymbol{\\tilde{y}})^2\\right]\n",
    "$$\n"
   ]
  },
  {
   "cell_type": "markdown",
   "id": "831db06c",
   "metadata": {},
   "source": [
    "**a)** Show that you can rewrite this into an expression which contains\n",
    "\n",
    "- the variance of the model (the variance term)\n",
    "- the expected deviation of the mean of the model from the true data (the bias term)\n",
    "- the variance of the noise\n",
    "\n",
    "In other words, show that:\n"
   ]
  },
  {
   "cell_type": "markdown",
   "id": "8cc52b3c",
   "metadata": {},
   "source": [
    "$$\n",
    "\\mathbb{E}\\left[(\\boldsymbol{y}-\\boldsymbol{\\tilde{y}})^2\\right]=\\mathrm{Bias}[\\tilde{y}]+\\mathrm{var}[\\tilde{y}]+\\sigma^2,\n",
    "$$\n"
   ]
  },
  {
   "cell_type": "markdown",
   "id": "8cb50416",
   "metadata": {},
   "source": [
    "with\n"
   ]
  },
  {
   "cell_type": "markdown",
   "id": "e49bdbb4",
   "metadata": {},
   "source": [
    "$$\n",
    "\\mathrm{Bias}[\\tilde{y}]=\\mathbb{E}\\left[\\left(\\boldsymbol{y}-\\mathbb{E}\\left[\\boldsymbol{\\tilde{y}}\\right]\\right)^2\\right],\n",
    "$$\n"
   ]
  },
  {
   "cell_type": "markdown",
   "id": "eca5554a",
   "metadata": {},
   "source": [
    "and\n"
   ]
  },
  {
   "cell_type": "markdown",
   "id": "b1054343",
   "metadata": {},
   "source": [
    "$$\n",
    "\\mathrm{var}[\\tilde{y}]=\\mathbb{E}\\left[\\left(\\tilde{\\boldsymbol{y}}-\\mathbb{E}\\left[\\boldsymbol{\\tilde{y}}\\right]\\right)^2\\right]=\\frac{1}{n}\\sum_i(\\tilde{y}_i-\\mathbb{E}\\left[\\boldsymbol{\\tilde{y}}\\right])^2.\n",
    "$$\n",
    "\n",
    "In order to arrive at the equation for the bias, we have to approximate the unknown function $f$ with the output/target values $y$.\n"
   ]
  },
  {
   "cell_type": "markdown",
   "id": "234ed59b",
   "metadata": {},
   "source": [
    "### Answer:"
   ]
  },
  {
   "cell_type": "markdown",
   "id": "1424c61a",
   "metadata": {},
   "source": [
    "We start with the expression"
   ]
  },
  {
   "cell_type": "markdown",
   "id": "5cbd6e0f",
   "metadata": {},
   "source": [
    "$$\n",
    "\\mathbb{E}[(y-\\tilde y)^2]\n",
    "$$"
   ]
  },
  {
   "cell_type": "markdown",
   "id": "1f90868f",
   "metadata": {},
   "source": [
    "$$\n",
    "=\\mathbb{E}[(f(x)+\\epsilon-\\tilde y)^2]\n",
    "$$"
   ]
  },
  {
   "cell_type": "markdown",
   "id": "8736f3a2",
   "metadata": {},
   "source": [
    "$$\n",
    "= \\mathbb{E}[(f(x)-\\tilde y)^2+2(f(x)-\\tilde y)\\epsilon+\\epsilon^2]\n",
    "$$"
   ]
  },
  {
   "cell_type": "markdown",
   "id": "71385185",
   "metadata": {},
   "source": [
    "$$\n",
    "= \\mathbb{E}[(f(x)-\\tilde y)^2] + 2\\mathbb{E}[\\epsilon]\\mathbb{E}[f(x)-\\tilde y]+\\mathbb{E}[\\epsilon^2]\n",
    "$$"
   ]
  },
  {
   "cell_type": "markdown",
   "id": "a26c4cdf",
   "metadata": {},
   "source": [
    "We get that $\\mathbb{E}[\\epsilon]=0$ and that $\\mathbb{E}[\\epsilon^2]=\\sigma^2$"
   ]
  },
  {
   "cell_type": "markdown",
   "id": "d33a498e",
   "metadata": {},
   "source": [
    "$$\n",
    "= \\mathbb{E}[(f(x)-\\tilde y)^2] + 0+ \\sigma^2\n",
    "$$"
   ]
  },
  {
   "cell_type": "markdown",
   "id": "9356cb0e",
   "metadata": {},
   "source": [
    "$$\n",
    "=\\mathbb{E}[(f(x)-\\mathbb{E}[\\tilde y]+\\mathbb{E}[\\tilde y]-\\tilde y)^2] + \\sigma^2\n",
    "$$"
   ]
  },
  {
   "cell_type": "markdown",
   "id": "d7099667",
   "metadata": {},
   "source": [
    "$$\n",
    "= \\mathbb{E}[\\{(f(x)-\\mathbb{E}[\\tilde y]\\}+\\{\\mathbb{E}[\\tilde y]-\\tilde y\\})^2] + \\sigma^2\n",
    "$$\n"
   ]
  },
  {
   "cell_type": "markdown",
   "id": "df424f91",
   "metadata": {},
   "source": [
    "$$\n",
    "= \\mathbb{E}(f(x)-\\mathbb{E}[\\tilde y])^2+2\\mathbb{E}[(f(x)-\\mathbb{E}[\\tilde y])(\\mathbb{E}[\\tilde y]-\\tilde y)]+\\mathbb{E}(\\mathbb{E}[\\tilde y]-\\tilde y)^2 + \\sigma^2\n",
    "$$"
   ]
  },
  {
   "cell_type": "markdown",
   "id": "87772aae",
   "metadata": {},
   "source": [
    "$$\n",
    "= \\mathbb{E}(f(x)-\\mathbb{E}[\\tilde y])^2+2\\mathbb{E}[(f(x)-\\mathbb{E}[\\tilde y])\\mathbb{E}(\\mathbb{E}[\\tilde y]-\\tilde y)]+\\mathbb{E}(\\mathbb{E}[\\tilde y]-\\tilde y)^2 + \\sigma^2\n",
    "$$"
   ]
  },
  {
   "cell_type": "markdown",
   "id": "360199b6",
   "metadata": {},
   "source": [
    "$$\n",
    "= \\mathbb{E}(f(x)-\\mathbb{E}[\\tilde y])^2+2\\mathbb{E}(f(x)-\\mathbb{E}[\\tilde y])(\\mathbb{E}(\\mathbb{E}[\\tilde y])-\\mathbb{E}(\\tilde y))+\\mathbb{E}(\\mathbb{E}[\\tilde y]-\\tilde y)^2 + \\sigma^2\n",
    "$$"
   ]
  },
  {
   "cell_type": "markdown",
   "id": "d8cae0c1",
   "metadata": {},
   "source": [
    "$$\n",
    "= \\mathbb{E}(f(x)-\\mathbb{E}[\\tilde y])^2+2\\mathbb{E}(f(x)-\\mathbb{E}[\\tilde y])(0)+\\mathbb{E}(\\mathbb{E}[\\tilde y]-\\tilde y)^2 + \\sigma^2\n",
    "$$"
   ]
  },
  {
   "cell_type": "markdown",
   "id": "806a1b7b",
   "metadata": {},
   "source": [
    "$$\n",
    "= \\mathbb{E}(f(x)-\\mathbb{E}[\\tilde y])^2+\\mathbb{E}[(\\mathbb{E}[\\tilde y]-\\tilde y)^2] + \\sigma^2\n",
    "$$"
   ]
  },
  {
   "cell_type": "markdown",
   "id": "83749516",
   "metadata": {},
   "source": [
    "$$\n",
    "=\\mathrm{Bias}[\\tilde{y}]+\\mathrm{var}[\\tilde{y}]+\\sigma^2,\n",
    "$$\n"
   ]
  },
  {
   "cell_type": "markdown",
   "id": "70fbfcd7",
   "metadata": {},
   "source": [
    "**b)** Explain what the terms mean and discuss their interpretations.\n"
   ]
  },
  {
   "cell_type": "markdown",
   "id": "1f935c33",
   "metadata": {},
   "source": [
    "The Bias term explains how far the average model prediction is from the true function f(x) that explains the data distribution.display_pretty. High bias means that the model is far from the true function. The function is underfitting tha data.\n",
    "\n",
    "Variance measures how much the predicitons vary if you retrain from different data. High variance means that the model variances alot based on training data. And usually means overfitting to training data.\n",
    "\n",
    "while $\\sigma^2$ is simply the noise, which cannot be removed. Also called the ireducable error."
   ]
  },
  {
   "cell_type": "markdown",
   "id": "b8f8b9d1",
   "metadata": {},
   "source": [
    "## Exercise 4: Computing the Bias and Variance\n"
   ]
  },
  {
   "cell_type": "markdown",
   "id": "9e012430",
   "metadata": {},
   "source": [
    "Before you compute the bias and variance of a real model for different complexities, let's for now assume that you have sampled predictions and targets for a single model complexity using bootstrap resampling.\n",
    "\n",
    "**a)** Using the expression above, compute the mean squared error, bias and variance of the given data. Check that the sum of the bias and variance correctly gives (approximately) the mean squared error.\n"
   ]
  },
  {
   "cell_type": "code",
   "execution_count": 1,
   "id": "b5bf581c",
   "metadata": {},
   "outputs": [
    {
     "name": "stdout",
     "output_type": "stream",
     "text": [
      "mse is: 219.29721504049846\n",
      "bias is 210.9776971185759\n",
      "variance is 8.31951792192259\n"
     ]
    }
   ],
   "source": [
    "import numpy as np\n",
    "\n",
    "n = 100\n",
    "bootstraps = 1000\n",
    "\n",
    "predictions = np.random.rand(bootstraps, n) * 10 + 10\n",
    "# The definition of targets has been updated, and was wrong earlier in the week.\n",
    "targets = np.random.rand(1, n)\n",
    "\n",
    "mean_pred = predictions.mean(axis=0)\n",
    "\n",
    "mse = ((predictions-targets)**2).mean()\n",
    "bias = ((targets-mean_pred)**2).mean()\n",
    "variance = ((predictions**2).mean(axis=0)-mean_pred**2).mean()\n",
    "\n",
    "print(\"mse is:\",mse)\n",
    "print(\"bias is\",bias)\n",
    "print(\"variance is\",variance)"
   ]
  },
  {
   "cell_type": "markdown",
   "id": "20a62b04",
   "metadata": {},
   "source": [
    "**b)** Change the prediction values in some way to increase the bias while decreasing the variance."
   ]
  },
  {
   "cell_type": "code",
   "execution_count": 2,
   "id": "408c50e8",
   "metadata": {},
   "outputs": [
    {
     "name": "stdout",
     "output_type": "stream",
     "text": [
      "mse is: 9904.255973787924\n",
      "bias is 9904.255138407118\n",
      "variance is 0.0008353808062929602\n"
     ]
    }
   ],
   "source": [
    "import numpy as np\n",
    "\n",
    "n = 100\n",
    "bootstraps = 1000\n",
    "\n",
    "predictions = np.random.rand(bootstraps, n) * 0.1 + 100 # changes the + term to be higher which makes the bias huge\n",
    "# and changes the 10 to 0.1 which made the variance very small \n",
    "# I dont really understand if this is what the task wants us to do \n",
    "targets = np.random.rand(1, n)\n",
    "\n",
    "mean_pred = predictions.mean(axis=0)\n",
    "\n",
    "mse = ((predictions-targets)**2).mean()\n",
    "bias = ((targets-mean_pred)**2).mean()\n",
    "variance = ((predictions**2).mean(axis=0)-mean_pred**2).mean()\n",
    "\n",
    "print(\"mse is:\",mse)\n",
    "print(\"bias is\",bias)\n",
    "print(\"variance is\",variance)"
   ]
  },
  {
   "cell_type": "markdown",
   "id": "7b1dc621",
   "metadata": {},
   "source": [
    "**c)** Change the prediction values in some way to increase the variance while decreasing the bias.\n"
   ]
  },
  {
   "cell_type": "code",
   "execution_count": 3,
   "id": "e1271862",
   "metadata": {},
   "outputs": [
    {
     "name": "stdout",
     "output_type": "stream",
     "text": [
      "mse is: 124.88014067015601\n",
      "bias is 91.48829956916163\n",
      "variance is 33.39184110099438\n"
     ]
    }
   ],
   "source": [
    "import numpy as np\n",
    "\n",
    "n = 100\n",
    "bootstraps = 1000\n",
    "\n",
    "predictions = np.random.rand(bootstraps, n) * 20 + 0.1 # Here we did the same as the previous task, but did it with the other terms\n",
    "targets = np.random.rand(1, n)\n",
    "\n",
    "mean_pred = predictions.mean(axis=0)\n",
    "\n",
    "mse = ((predictions-targets)**2).mean()\n",
    "bias = ((targets-mean_pred)**2).mean()\n",
    "variance = ((predictions**2).mean(axis=0)-mean_pred**2).mean()\n",
    "\n",
    "print(\"mse is:\",mse)\n",
    "print(\"bias is\",bias)\n",
    "print(\"variance is\",variance)"
   ]
  },
  {
   "cell_type": "markdown",
   "id": "8da63362",
   "metadata": {},
   "source": [
    "**d)** Perform a bias-variance analysis of a polynomial OLS model fit to a one-dimensional function by computing and plotting the bias and variances values as a function of the polynomial degree of your model.\n"
   ]
  },
  {
   "cell_type": "code",
   "execution_count": 4,
   "id": "dd5855e4",
   "metadata": {},
   "outputs": [],
   "source": [
    "import numpy as np\n",
    "import matplotlib.pyplot as plt\n",
    "from sklearn.preprocessing import (\n",
    "    PolynomialFeatures,\n",
    ")  # use the fit_transform method of the created object!\n",
    "from sklearn.linear_model import LinearRegression\n",
    "from sklearn.metrics import mean_squared_error\n",
    "from sklearn.model_selection import train_test_split\n",
    "from sklearn.utils import resample"
   ]
  },
  {
   "cell_type": "code",
   "execution_count": 5,
   "id": "8ff535de",
   "metadata": {},
   "outputs": [],
   "source": [
    "def polynomial_features(x, p, intercept=False):\n",
    "    n = len(x)\n",
    "    if intercept:\n",
    "        X = np.ones((n, p+1))   # include x^0 = 1\n",
    "        for i in range(1, p+1):\n",
    "            X[:, i] = x**i\n",
    "    else:\n",
    "        X = np.zeros((n, p))\n",
    "        for i in range(p):\n",
    "            X[:, i] = x**(i+1)\n",
    "    return X"
   ]
  },
  {
   "cell_type": "code",
   "execution_count": null,
   "id": "7e35fa37",
   "metadata": {},
   "outputs": [],
   "source": [
    "n = 100\n",
    "bootstraps = 1000\n",
    "\n",
    "x = np.linspace(-5, 5, n)\n",
    "y = np.exp(-(x**2)) + 1.5 * np.exp(-((x - 2) ** 2)) + np.random.normal(0, 0.1)\n",
    "degree = 18\n",
    "\n",
    "biases = []\n",
    "variances = []\n",
    "mses = []\n",
    "\n",
    "for p in range(1, degree):\n",
    "\n",
    "    X_all = x.reshape(-1,1)\n",
    "    poly = PolynomialFeatures(degree=p, include_bias=True)\n",
    "    X = poly.fit_transform(X_all) \n",
    "\n",
    "    X_train, X_test, y_train, y_test = train_test_split(X,y,test_size=0.25,random_state=0)\n",
    "\n",
    "    predictions = np.empty((bootstraps,len(y_test)))\n",
    "    targets = np.empty((bootstraps, len(y_test)))\n",
    "\n",
    "    for b in range(bootstraps):\n",
    "        X_train_re, y_train_re = resample(X_train, y_train)\n",
    "\n",
    "        # fit your model on the sampled data\n",
    "        model = LinearRegression(fit_intercept=False)\n",
    "        model.fit(X_train_re, y_train_re)\n",
    "\n",
    "        # make predictions on the test data\n",
    "        predictions[b, :] = model.predict(X_test)\n",
    "        targets[b, :] = y_test\n",
    "\n",
    "\n",
    "    mean_pred = predictions.mean(axis=0)\n",
    "\n",
    "    mse = ((predictions-targets)**2).mean()\n",
    "    bias = ((targets-mean_pred)**2).mean()\n",
    "    variance = ((predictions**2).mean(axis=0)-mean_pred**2).mean()\n",
    "\n",
    "    biases.append(bias)\n",
    "    variances.append(variance)\n",
    "    mses.append(mse)"
   ]
  },
  {
   "cell_type": "code",
   "execution_count": 41,
   "id": "524fb6bc",
   "metadata": {},
   "outputs": [
    {
     "data": {
      "image/png": "[encoded data removed]",
      "text/plain": [
       "<Figure size 640x480 with 1 Axes>"
      ]
     },
     "metadata": {},
     "output_type": "display_data"
    }
   ],
   "source": [
    "plt.rcParams.update({\n",
    "    \"text.usetex\": True,\n",
    "    \"font.family\": \"serif\",\n",
    "    \"font.serif\": [\"Computer Modern Roman\"],\n",
    "})\n",
    "\n",
    "\n",
    "\n",
    "plt.plot(range(1,degree),biases,marker=\"o\",label=\"Bias\")\n",
    "plt.plot(range(1,degree),variances,marker=\"o\",label=\"Variance\")\n",
    "plt.plot(range(1,degree),mses,marker=\"o\",label=\"MSE\")\n",
    "plt.xlabel(\"Polynomial degree\")\n",
    "plt.ylabel(\"Respective metric (Bias,Var and MSE)\")\n",
    "plt.title(\"Bias Variance Trade-off\")\n",
    "plt.legend()\n",
    "plt.savefig(\"/Users/bror/Downloads/figures_fys/biasVarTrade.pdf\")\n",
    "plt.show()\n"
   ]
  },
  {
   "cell_type": "markdown",
   "id": "b4e49dcf",
   "metadata": {},
   "source": [
    "**e)** Discuss the bias-variance trade-off as function of your model complexity (the degree of the polynomial)."
   ]
  },
  {
   "cell_type": "markdown",
   "id": "f34ee351",
   "metadata": {},
   "source": [
    "Bias seems to dominate variance and is a bigger portion of the MSE. We see that both the variance and bias decrease until we see a polynomial of 3 and then see it increases again. In this case Bias and variance seems to follow the same trends."
   ]
  },
  {
   "cell_type": "markdown",
   "id": "253b8461",
   "metadata": {},
   "source": [
    "**f)** Compute and discuss the bias and variance as function of the number of data points (choose a suitable polynomial degree to show something interesting).\n"
   ]
  },
  {
   "cell_type": "code",
   "execution_count": null,
   "id": "94ea2bea",
   "metadata": {},
   "outputs": [],
   "source": [
    "n_grid = np.arange(20,200,20)  \n",
    "\n",
    "biases = []\n",
    "variances = []\n",
    "mses = []\n",
    "\n",
    "p = 3\n",
    "\n",
    "for n in n_grid:\n",
    "    # generate dataset of size n\n",
    "    x = np.linspace(-3, 3, n)\n",
    "    y = np.exp(-(x**2)) + 1.5 * np.exp(-((x - 2) ** 2))\n",
    "\n",
    "    # polynomial features of fixed degree\n",
    "    X_all = x.reshape(-1, 1)\n",
    "    poly = PolynomialFeatures(degree=p, include_bias=True)\n",
    "    X = poly.fit_transform(X_all)\n",
    "\n",
    "    # split\n",
    "    X_train, X_test, y_train, y_test = train_test_split(X, y, test_size=0.25, random_state=0)\n",
    "\n",
    "    # bootstrap predictions\n",
    "    predictions = np.empty((bootstraps, len(y_test)))\n",
    "    targets = np.empty((bootstraps, len(y_test)))\n",
    "\n",
    "    for b in range(bootstraps):\n",
    "        X_train_re, y_train_re = resample(X_train, y_train)\n",
    "        model = LinearRegression(fit_intercept=False)\n",
    "        model.fit(X_train_re, y_train_re)\n",
    "\n",
    "        predictions[b, :] = model.predict(X_test)\n",
    "        targets[b, :]     = y_test\n",
    "\n",
    "    # bias^2, variance, mse (averaged over test samples)\n",
    "    mean_pred = predictions.mean(axis=0)\n",
    "    mse = ((predictions - targets) ** 2).mean()\n",
    "    bias = ((targets - mean_pred) ** 2).mean()\n",
    "    variance = ((predictions**2).mean(axis=0) - mean_pred**2).mean()\n",
    "\n",
    "    biases.append(bias)\n",
    "    variances.append(variance)\n",
    "    mses.append(mse)"
   ]
  },
  {
   "cell_type": "code",
   "execution_count": null,
   "id": "e07b430b",
   "metadata": {},
   "outputs": [
    {
     "data": {
      "image/png": "[encoded data removed]",
      "text/plain": [
       "<Figure size 640x480 with 1 Axes>"
      ]
     },
     "metadata": {},
     "output_type": "display_data"
    }
   ],
   "source": [
    "plt.plot(n_grid,biases,marker=\"o\",label=\"Bias\")\n",
    "plt.plot(n_grid,[i**2 for i in biases],marker=\"o\",label=\"Bias squared\")\n",
    "plt.plot(n_grid,variances,marker=\"o\",label=\"Variance\")\n",
    "plt.plot(n_grid,mses,marker=\"o\",label=\"MSE\")\n",
    "plt.xlabel(\"n\")\n",
    "plt.legend()\n",
    "plt.show()"
   ]
  },
  {
   "cell_type": "markdown",
   "id": "54745f25",
   "metadata": {},
   "source": [
    "We would naturally expect variance to decrease when n gets larger, which we can see in the plot. On the other hand one would think the bias would stay the same as we dont change p. But this is not what we see in the plot"
   ]
  },
  {
   "cell_type": "markdown",
   "id": "46250fbc",
   "metadata": {},
   "source": [
    "## Exercise 5: Interpretation of scaling and metrics\n"
   ]
  },
  {
   "cell_type": "markdown",
   "id": "5af53055",
   "metadata": {},
   "source": [
    "In this course, we often ask you to scale data and compute various metrics. Although these practices are \"standard\" in the field, we will require you to demonstrate an understanding of _why_ you need to scale data and use these metrics. Both so that you can make better arguements about your results, and so that you will hopefully make fewer mistakes.\n",
    "\n",
    "First, a few reminders: In this course you should always scale the columns of the feature matrix, and sometimes scale the target data, when it is worth the effort. By scaling, we mean subtracting the mean and dividing by the standard deviation, though there are many other ways to scale data. When scaling either the feature matrix or the target data, the intercept becomes a bit harder to implement and understand, so take care.\n",
    "\n",
    "Briefly answer the following:\n",
    "\n",
    "**a)** Why do we scale data?\n",
    "\n",
    "**b)** Why does the OLS method give practically equivelent models on scaled and unscaled data?\n",
    "\n",
    "**c)** Why does the Ridge method **not** give practically equivelent models on scaled and unscaled data? Why do we only consider the model on scaled data correct?\n",
    "\n",
    "**d)** Why do we say that the Ridge method gives a biased model?\n",
    "\n",
    "**e)** Is the MSE of the OLS method affected by scaling of the feature matrix? Is it affected by scaling of the target data?\n",
    "\n",
    "**f)** Read about the R2 score, a metric we will ask you to use a lot later in the course. Is the R2 score of the OLS method affected by scaling of the feature matrix? Is it affected by scaling of the target data?\n",
    "\n",
    "**g)** Give interpretations of the following R2 scores: 0, 0.5, 1.\n",
    "\n",
    "**h)** What is an advantage of the R2 score over the MSE?\n"
   ]
  },
  {
   "cell_type": "markdown",
   "id": "153c709c",
   "metadata": {},
   "source": [
    "a)\n",
    "We scale data because features that are scaled differently can dominate the solution of a regression. Scaling puts all features on the same numerical scale.\n",
    "\n",
    "b)\n",
    "OLS solves $(X^TX)^{-1}X^Ty$ scaling X just changes the coefficients. but the fitted predictions remain the same.\n",
    "\n",
    "c)\n",
    "Ridge penalixes the size of the coefficients $\\lambda||\\beta||^2$ if features have different scale, they also become penalizes differently.\n",
    "\n",
    "d)\n",
    "Ridge shrinks coefficients to zero. Which adds bias to the estimator the expected value of $\\hat\\beta$ differs from the true $\\beta$\n",
    "\n",
    "e)\n",
    "Scaling the feature matrix doesnt change the MSE. But scaling the target data does. If we rescale y the MSE scales correspondily.\n",
    "\n",
    "f)\n",
    "R2 only depends on predictions versus true values. Since the OLS model is not affected by scaling neither is R2. Both RSS and TSS scale the same when scaling y so the R2 does not change.\n",
    "\n",
    "g)\n",
    "$R^2=0$, model does not predict the variance of y.\n",
    "$R^2=0.5$ model explains 50% of the variance\n",
    "$R^2=1$ model explains all the variance in y. In other words a perfect model\n",
    "\n",
    "h)\n",
    "R2 is scale indpendent. It directly tells you the variance of y explained by the model. MSE depends on the scaling of y.\n",
    "\n"
   ]
  }
 ],
 "metadata": {
  "kernelspec": {
   "display_name": "FYS-STK3155",
   "language": "python",
   "name": "python3"
  },
  "language_info": {
   "codemirror_mode": {
    "name": "ipython",
    "version": 3
   },
   "file_extension": ".py",
   "mimetype": "text/x-python",
   "name": "python",
   "nbconvert_exporter": "python",
   "pygments_lexer": "ipython3",
   "version": "3.13.5"
  }
 },
 "nbformat": 4,
 "nbformat_minor": 5
}
